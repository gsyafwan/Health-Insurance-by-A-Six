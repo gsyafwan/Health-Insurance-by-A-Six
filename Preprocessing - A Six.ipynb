{
  "cells": [
    {
      "attachments": {},
      "cell_type": "markdown",
      "metadata": {
        "id": "PJz1N2hpddiG"
      },
      "source": [
        "## Import Libraries"
      ]
    },
    {
      "cell_type": "code",
      "execution_count": 8,
      "metadata": {
        "id": "R0d8-03-cuFE"
      },
      "outputs": [],
      "source": [
        "import numpy as np\n",
        "import pandas as pd\n",
        "import matplotlib.pyplot as plt\n",
        "import seaborn as sns\n",
        "from scipy import stats"
      ]
    },
    {
      "attachments": {},
      "cell_type": "markdown",
      "metadata": {
        "id": "L-aiwRvGul7R"
      },
      "source": [
        "## Load Dataset"
      ]
    },
    {
      "cell_type": "code",
      "execution_count": 2,
      "metadata": {
        "id": "mBoNRgpaumf4"
      },
      "outputs": [],
      "source": [
        "# change the path if necessary\n",
        "df = pd.read_csv('train.csv')"
      ]
    },
    {
      "cell_type": "code",
      "execution_count": 3,
      "metadata": {
        "colab": {
          "base_uri": "https://localhost:8080/"
        },
        "id": "WpHm2z-0q1l8",
        "outputId": "1ca8c517-8765-427c-95f1-af602ea77a40"
      },
      "outputs": [
        {
          "name": "stdout",
          "output_type": "stream",
          "text": [
            "<class 'pandas.core.frame.DataFrame'>\n",
            "RangeIndex: 381109 entries, 0 to 381108\n",
            "Data columns (total 12 columns):\n",
            " #   Column                Non-Null Count   Dtype  \n",
            "---  ------                --------------   -----  \n",
            " 0   id                    381109 non-null  int64  \n",
            " 1   Gender                381109 non-null  object \n",
            " 2   Age                   381109 non-null  int64  \n",
            " 3   Driving_License       381109 non-null  int64  \n",
            " 4   Region_Code           381109 non-null  float64\n",
            " 5   Previously_Insured    381109 non-null  int64  \n",
            " 6   Vehicle_Age           381109 non-null  object \n",
            " 7   Vehicle_Damage        381109 non-null  object \n",
            " 8   Annual_Premium        381109 non-null  float64\n",
            " 9   Policy_Sales_Channel  381109 non-null  float64\n",
            " 10  Vintage               381109 non-null  int64  \n",
            " 11  Response              381109 non-null  int64  \n",
            "dtypes: float64(3), int64(6), object(3)\n",
            "memory usage: 34.9+ MB\n"
          ]
        }
      ],
      "source": [
        "# informasi general tentang dataframe\n",
        "df.info()"
      ]
    },
    {
      "attachments": {},
      "cell_type": "markdown",
      "metadata": {
        "id": "AKy3JX7au0Zp"
      },
      "source": [
        "Pengamatan\\:\n",
        "1. Data terdiri dari `381109 baris`\n",
        "2. Tidak ada kolom yang memiliki null/missing values `(Non-Null Count = jumlah baris)`\n",
        "3. Sepertinya tidak ada issue yang mencolok pada tipe data untuk setiap kolom (sudah sesuai)"
      ]
    },
    {
      "cell_type": "markdown",
      "metadata": {
        "id": "pn4NevFcvaaR"
      },
      "source": [
        "## Cuplikan Data"
      ]
    },
    {
      "cell_type": "code",
      "execution_count": 4,
      "metadata": {
        "colab": {
          "base_uri": "https://localhost:8080/",
          "height": 322
        },
        "id": "tv2j2hY4vfBD",
        "outputId": "5136cd28-44d4-4648-f5ea-5cafd1aef1f5"
      },
      "outputs": [
        {
          "data": {
            "text/html": [
              "<div>\n",
              "<style scoped>\n",
              "    .dataframe tbody tr th:only-of-type {\n",
              "        vertical-align: middle;\n",
              "    }\n",
              "\n",
              "    .dataframe tbody tr th {\n",
              "        vertical-align: top;\n",
              "    }\n",
              "\n",
              "    .dataframe thead th {\n",
              "        text-align: right;\n",
              "    }\n",
              "</style>\n",
              "<table border=\"1\" class=\"dataframe\">\n",
              "  <thead>\n",
              "    <tr style=\"text-align: right;\">\n",
              "      <th></th>\n",
              "      <th>id</th>\n",
              "      <th>Gender</th>\n",
              "      <th>Age</th>\n",
              "      <th>Driving_License</th>\n",
              "      <th>Region_Code</th>\n",
              "      <th>Previously_Insured</th>\n",
              "      <th>Vehicle_Age</th>\n",
              "      <th>Vehicle_Damage</th>\n",
              "      <th>Annual_Premium</th>\n",
              "      <th>Policy_Sales_Channel</th>\n",
              "      <th>Vintage</th>\n",
              "      <th>Response</th>\n",
              "    </tr>\n",
              "  </thead>\n",
              "  <tbody>\n",
              "    <tr>\n",
              "      <th>103165</th>\n",
              "      <td>103166</td>\n",
              "      <td>Female</td>\n",
              "      <td>26</td>\n",
              "      <td>1</td>\n",
              "      <td>41.0</td>\n",
              "      <td>1</td>\n",
              "      <td>&lt; 1 Year</td>\n",
              "      <td>No</td>\n",
              "      <td>21118.0</td>\n",
              "      <td>152.0</td>\n",
              "      <td>289</td>\n",
              "      <td>0</td>\n",
              "    </tr>\n",
              "    <tr>\n",
              "      <th>274342</th>\n",
              "      <td>274343</td>\n",
              "      <td>Female</td>\n",
              "      <td>23</td>\n",
              "      <td>1</td>\n",
              "      <td>6.0</td>\n",
              "      <td>1</td>\n",
              "      <td>&lt; 1 Year</td>\n",
              "      <td>No</td>\n",
              "      <td>26375.0</td>\n",
              "      <td>152.0</td>\n",
              "      <td>114</td>\n",
              "      <td>0</td>\n",
              "    </tr>\n",
              "    <tr>\n",
              "      <th>9813</th>\n",
              "      <td>9814</td>\n",
              "      <td>Male</td>\n",
              "      <td>21</td>\n",
              "      <td>1</td>\n",
              "      <td>45.0</td>\n",
              "      <td>0</td>\n",
              "      <td>1-2 Year</td>\n",
              "      <td>Yes</td>\n",
              "      <td>2630.0</td>\n",
              "      <td>156.0</td>\n",
              "      <td>286</td>\n",
              "      <td>0</td>\n",
              "    </tr>\n",
              "    <tr>\n",
              "      <th>199705</th>\n",
              "      <td>199706</td>\n",
              "      <td>Male</td>\n",
              "      <td>49</td>\n",
              "      <td>1</td>\n",
              "      <td>15.0</td>\n",
              "      <td>0</td>\n",
              "      <td>&gt; 2 Years</td>\n",
              "      <td>Yes</td>\n",
              "      <td>2630.0</td>\n",
              "      <td>26.0</td>\n",
              "      <td>199</td>\n",
              "      <td>1</td>\n",
              "    </tr>\n",
              "    <tr>\n",
              "      <th>18046</th>\n",
              "      <td>18047</td>\n",
              "      <td>Male</td>\n",
              "      <td>57</td>\n",
              "      <td>1</td>\n",
              "      <td>48.0</td>\n",
              "      <td>1</td>\n",
              "      <td>1-2 Year</td>\n",
              "      <td>No</td>\n",
              "      <td>2630.0</td>\n",
              "      <td>124.0</td>\n",
              "      <td>39</td>\n",
              "      <td>0</td>\n",
              "    </tr>\n",
              "  </tbody>\n",
              "</table>\n",
              "</div>"
            ],
            "text/plain": [
              "            id  Gender  Age  Driving_License  Region_Code  Previously_Insured  \\\n",
              "103165  103166  Female   26                1         41.0                   1   \n",
              "274342  274343  Female   23                1          6.0                   1   \n",
              "9813      9814    Male   21                1         45.0                   0   \n",
              "199705  199706    Male   49                1         15.0                   0   \n",
              "18046    18047    Male   57                1         48.0                   1   \n",
              "\n",
              "       Vehicle_Age Vehicle_Damage  Annual_Premium  Policy_Sales_Channel  \\\n",
              "103165    < 1 Year             No         21118.0                 152.0   \n",
              "274342    < 1 Year             No         26375.0                 152.0   \n",
              "9813      1-2 Year            Yes          2630.0                 156.0   \n",
              "199705   > 2 Years            Yes          2630.0                  26.0   \n",
              "18046     1-2 Year             No          2630.0                 124.0   \n",
              "\n",
              "        Vintage  Response  \n",
              "103165      289         0  \n",
              "274342      114         0  \n",
              "9813        286         0  \n",
              "199705      199         1  \n",
              "18046        39         0  "
            ]
          },
          "execution_count": 4,
          "metadata": {},
          "output_type": "execute_result"
        }
      ],
      "source": [
        "# run code ini beberapa kali\n",
        "df.sample(5)"
      ]
    },
    {
      "attachments": {},
      "cell_type": "markdown",
      "metadata": {
        "id": "fLCLdEC3vqXq"
      },
      "source": [
        "## Statistical Summary"
      ]
    },
    {
      "cell_type": "code",
      "execution_count": 5,
      "metadata": {
        "id": "qqtPIt1gpf9q"
      },
      "outputs": [],
      "source": [
        "# pengelompokan kolom berdasarkan jenisnya\n",
        "nums = ['Age', 'Vintage', 'Annual_Premium']\n",
        "cats = ['Gender', 'Driving_License', 'Region_Code', 'Previously_Insured', 'Vehicle_Damage', 'Policy_Sales_Channel', 'Response']"
      ]
    },
    {
      "cell_type": "code",
      "execution_count": 6,
      "metadata": {
        "colab": {
          "base_uri": "https://localhost:8080/",
          "height": 300
        },
        "id": "Sl3azjfkp6UY",
        "outputId": "aad8f032-1ac6-464a-a54e-ef4ff1b0e974"
      },
      "outputs": [
        {
          "data": {
            "text/html": [
              "<div>\n",
              "<style scoped>\n",
              "    .dataframe tbody tr th:only-of-type {\n",
              "        vertical-align: middle;\n",
              "    }\n",
              "\n",
              "    .dataframe tbody tr th {\n",
              "        vertical-align: top;\n",
              "    }\n",
              "\n",
              "    .dataframe thead th {\n",
              "        text-align: right;\n",
              "    }\n",
              "</style>\n",
              "<table border=\"1\" class=\"dataframe\">\n",
              "  <thead>\n",
              "    <tr style=\"text-align: right;\">\n",
              "      <th></th>\n",
              "      <th>Age</th>\n",
              "      <th>Vintage</th>\n",
              "      <th>Annual_Premium</th>\n",
              "    </tr>\n",
              "  </thead>\n",
              "  <tbody>\n",
              "    <tr>\n",
              "      <th>count</th>\n",
              "      <td>381109.00</td>\n",
              "      <td>381109.00</td>\n",
              "      <td>381109.00</td>\n",
              "    </tr>\n",
              "    <tr>\n",
              "      <th>mean</th>\n",
              "      <td>38.82</td>\n",
              "      <td>154.35</td>\n",
              "      <td>30564.39</td>\n",
              "    </tr>\n",
              "    <tr>\n",
              "      <th>std</th>\n",
              "      <td>15.51</td>\n",
              "      <td>83.67</td>\n",
              "      <td>17213.16</td>\n",
              "    </tr>\n",
              "    <tr>\n",
              "      <th>min</th>\n",
              "      <td>20.00</td>\n",
              "      <td>10.00</td>\n",
              "      <td>2630.00</td>\n",
              "    </tr>\n",
              "    <tr>\n",
              "      <th>25%</th>\n",
              "      <td>25.00</td>\n",
              "      <td>82.00</td>\n",
              "      <td>24405.00</td>\n",
              "    </tr>\n",
              "    <tr>\n",
              "      <th>50%</th>\n",
              "      <td>36.00</td>\n",
              "      <td>154.00</td>\n",
              "      <td>31669.00</td>\n",
              "    </tr>\n",
              "    <tr>\n",
              "      <th>75%</th>\n",
              "      <td>49.00</td>\n",
              "      <td>227.00</td>\n",
              "      <td>39400.00</td>\n",
              "    </tr>\n",
              "    <tr>\n",
              "      <th>max</th>\n",
              "      <td>85.00</td>\n",
              "      <td>299.00</td>\n",
              "      <td>540165.00</td>\n",
              "    </tr>\n",
              "  </tbody>\n",
              "</table>\n",
              "</div>"
            ],
            "text/plain": [
              "             Age    Vintage  Annual_Premium\n",
              "count  381109.00  381109.00       381109.00\n",
              "mean       38.82     154.35        30564.39\n",
              "std        15.51      83.67        17213.16\n",
              "min        20.00      10.00         2630.00\n",
              "25%        25.00      82.00        24405.00\n",
              "50%        36.00     154.00        31669.00\n",
              "75%        49.00     227.00        39400.00\n",
              "max        85.00     299.00       540165.00"
            ]
          },
          "execution_count": 6,
          "metadata": {},
          "output_type": "execute_result"
        }
      ],
      "source": [
        "# ringkasan statistik dari kolom numerik\n",
        "df[nums].describe().round(2)"
      ]
    },
    {
      "attachments": {},
      "cell_type": "markdown",
      "metadata": {
        "id": "I7Z3TDQar3Wi"
      },
      "source": [
        "Beberapa pengamatan:\n",
        "1. Rata-rata usia nasabah adalah `38.82 tahun`.\n",
        "2. Rata-rata premi tahunan yang dibayar oleh nasabah adalah `30,564.39`.\n",
        "3. Rata-rata jumlah hari sejak nasabah bergabung dengan perusahaan asuransi (vintage) adalah `154.35 hari`.\n",
        "4. Standar deviasi usia nasabah adalah 15.51 tahun.\n",
        "5. Standar deviasi premi tahunan adalah 17,213.16.\n",
        "6. Standar deviasi vintage adalah 83.67 hari.\n",
        "7. Usia nasabah termuda adalah 20 tahun dan yang tertua adalah 85 tahun.\n",
        "8. Premi tahunan terendah yang dibayarkan oleh nasabah adalah 2,630 dan tertinggi adalah 540,165.\n",
        "9. Rata-rata vintage untuk nasabah berada di sekitar `154 hari`.\n",
        "10. Kuartil pertama dari usia nasabah adalah 25 tahun dan kuartil ketiga adalah 49 tahun. Hal ini menunjukkan bahwa sebagian besar nasabah berada di rentang usia antara 25 dan 49 tahun.\n",
        "11. Kuartil pertama dari premi tahunan adalah 24,405 dan kuartil ketiga adalah 39,400. Ini menunjukkan bahwa sebagian besar nasabah membayar premi dalam rentang antara 24,405 dan 39,400.\n",
        "12. Kuartil pertama dari vintage adalah 82 hari dan kuartil ketiga adalah 227 hari. Ini menunjukkan bahwa sebagian besar nasabah telah bergabung dengan perusahaan asuransi selama rentang waktu antara 82 dan 227 hari."
      ]
    },
    {
      "cell_type": "code",
      "execution_count": 7,
      "metadata": {
        "colab": {
          "base_uri": "https://localhost:8080/",
          "height": 175
        },
        "id": "yjfRb6t8rRVB",
        "outputId": "841f27f1-c5e7-4d58-b461-77d5cd113683"
      },
      "outputs": [
        {
          "data": {
            "text/html": [
              "<div>\n",
              "<style scoped>\n",
              "    .dataframe tbody tr th:only-of-type {\n",
              "        vertical-align: middle;\n",
              "    }\n",
              "\n",
              "    .dataframe tbody tr th {\n",
              "        vertical-align: top;\n",
              "    }\n",
              "\n",
              "    .dataframe thead th {\n",
              "        text-align: right;\n",
              "    }\n",
              "</style>\n",
              "<table border=\"1\" class=\"dataframe\">\n",
              "  <thead>\n",
              "    <tr style=\"text-align: right;\">\n",
              "      <th></th>\n",
              "      <th>Gender</th>\n",
              "      <th>Driving_License</th>\n",
              "      <th>Region_Code</th>\n",
              "      <th>Previously_Insured</th>\n",
              "      <th>Vehicle_Damage</th>\n",
              "      <th>Policy_Sales_Channel</th>\n",
              "      <th>Response</th>\n",
              "    </tr>\n",
              "  </thead>\n",
              "  <tbody>\n",
              "    <tr>\n",
              "      <th>count</th>\n",
              "      <td>381109</td>\n",
              "      <td>381109</td>\n",
              "      <td>381109.0</td>\n",
              "      <td>381109</td>\n",
              "      <td>381109</td>\n",
              "      <td>381109.0</td>\n",
              "      <td>381109</td>\n",
              "    </tr>\n",
              "    <tr>\n",
              "      <th>unique</th>\n",
              "      <td>2</td>\n",
              "      <td>2</td>\n",
              "      <td>53.0</td>\n",
              "      <td>2</td>\n",
              "      <td>2</td>\n",
              "      <td>155.0</td>\n",
              "      <td>2</td>\n",
              "    </tr>\n",
              "    <tr>\n",
              "      <th>top</th>\n",
              "      <td>Male</td>\n",
              "      <td>1</td>\n",
              "      <td>28.0</td>\n",
              "      <td>0</td>\n",
              "      <td>Yes</td>\n",
              "      <td>152.0</td>\n",
              "      <td>0</td>\n",
              "    </tr>\n",
              "    <tr>\n",
              "      <th>freq</th>\n",
              "      <td>206089</td>\n",
              "      <td>380297</td>\n",
              "      <td>106415.0</td>\n",
              "      <td>206481</td>\n",
              "      <td>192413</td>\n",
              "      <td>134784.0</td>\n",
              "      <td>334399</td>\n",
              "    </tr>\n",
              "  </tbody>\n",
              "</table>\n",
              "</div>"
            ],
            "text/plain": [
              "        Gender  Driving_License  Region_Code  Previously_Insured  \\\n",
              "count   381109           381109     381109.0              381109   \n",
              "unique       2                2         53.0                   2   \n",
              "top       Male                1         28.0                   0   \n",
              "freq    206089           380297     106415.0              206481   \n",
              "\n",
              "       Vehicle_Damage  Policy_Sales_Channel  Response  \n",
              "count          381109              381109.0    381109  \n",
              "unique              2                 155.0         2  \n",
              "top               Yes                 152.0         0  \n",
              "freq           192413              134784.0    334399  "
            ]
          },
          "execution_count": 7,
          "metadata": {},
          "output_type": "execute_result"
        }
      ],
      "source": [
        "# categorical columns \n",
        "df[['Gender', 'Driving_License', 'Region_Code', 'Previously_Insured', 'Vehicle_Damage', 'Policy_Sales_Channel', 'Response']] = df[['Gender', 'Driving_License', 'Region_Code', 'Previously_Insured', 'Vehicle_Damage', 'Policy_Sales_Channel', 'Response']].astype(object)\n",
        "df[cats].describe()"
      ]
    },
    {
      "attachments": {},
      "cell_type": "markdown",
      "metadata": {
        "id": "K7PyoTmotW5K"
      },
      "source": [
        "Beberapa pengamatan:\n",
        "1. Terdapat dua jenis kelamin `(gender)`, yaitu Male dan Female.\n",
        "2. Jumlah nasabah yang memiliki SIM `(Driving_License)` adalah 381109, dimana 380297 nasabah memiliki SIM dan 812 nasabah tidak memiliki SIM.\n",
        "3. Terdapat 53 kode wilayah `(Region_Code)` yang tercatat dalam data.\n",
        "4. Terdapat 155 saluran penjualan kebijakan `(Policy_Sales_Channel)` yang digunakan untuk menjual produk asuransi kepada nasabah.\n",
        "6. Ada 206,481 nasabah yang belum memiliki asuransi sebelumnya `(Previously_Insured)`, dan 174,628 nasabah lainnya sudah memiliki asuransi sebelumnya.\n",
        "7. Kendaraan yang diasuransikan terbagi menjadi tiga kategori umur `(Vehicle_Age)`, yaitu 1-2 tahun, < 1 tahun, dan > 2 tahun.\n",
        "8.  Kendaraan yang diasuransikan juga terbagi menjadi dua kategori kerusakan `(Vehicle_Damage)`, yaitu Yes dan No. Sebanyak 192,413 nasabah memiliki kendaraan yang pernah mengalami kerusakan (Yes), - sementara sisanya 188,696 nasabah memiliki kendaraan yang belum pernah mengalami kerusakan (No).\n",
        "9. Nasabah dengan jenis kelamin laki-laki (Male) lebih banyak dibandingkan dengan nasabah perempuan (Female), dengan jumlah 206,089 dan 175,020, masing-masing.\n",
        "10. Hampir semua nasabah dalam dataset memiliki SIM `(Driving_License)`, hanya ada 812 nasabah yang tidak memiliki SIM.\n",
        "11. Wilayah dengan kode 28.0 (Region_Code) memiliki jumlah nasabah terbanyak, yaitu sebesar 106,415 nasabah.\n",
        "12. Saluran penjualan kebijakan dengan nomor 152.0 `(Policy_Sales_Channel)` digunakan oleh nasabah terbanyak dalam membeli produk asuransi, yaitu sebanyak 134,784 nasabah.\n",
        "13. Lebih dari setengah nasabah (206,481) belum pernah memiliki asuransi sebelumnya (Previously_Insured).\n",
        "14. Sebagian besar kendaraan yang diasuransikan dalam dataset berusia 1-2 tahun (200,316).\n",
        "15. Kendaraan yang pernah mengalami kerusakan `(Vehicle_Damage = Yes)` dimiliki oleh sebagian besar nasabah (192,413)."
      ]
    },
    {
      "attachments": {},
      "cell_type": "markdown",
      "metadata": {},
      "source": [
        "# `1. Data Cleansing`"
      ]
    },
    {
      "attachments": {},
      "cell_type": "markdown",
      "metadata": {
        "id": "6_er5f0MuCR2"
      },
      "source": [
        "## Missing Data\n",
        "Pada tahapan ini dilakukan proses mengatasi atau menangani nilai-nilai yang kosong atau tidak tersedia pada dataset. Hal ini diperlukan karena keberadaan `missing value` dapat memengaruhi kualitas dan akurasi hasil analisis yang dilakukan pada dataset."
      ]
    },
    {
      "cell_type": "code",
      "execution_count": 138,
      "metadata": {
        "colab": {
          "base_uri": "https://localhost:8080/"
        },
        "id": "-nFiCGgquD1e",
        "outputId": "54bc8581-f84c-4dcd-fd76-3210fcbdd13f"
      },
      "outputs": [
        {
          "data": {
            "text/plain": [
              "id                      0\n",
              "Gender                  0\n",
              "Age                     0\n",
              "Driving_License         0\n",
              "Region_Code             0\n",
              "Previously_Insured      0\n",
              "Vehicle_Age             0\n",
              "Vehicle_Damage          0\n",
              "Annual_Premium          0\n",
              "Policy_Sales_Channel    0\n",
              "Vintage                 0\n",
              "Response                0\n",
              "dtype: int64"
            ]
          },
          "execution_count": 138,
          "metadata": {},
          "output_type": "execute_result"
        }
      ],
      "source": [
        "# jumlah entry NULL di setiap kolom\n",
        "df.isna().sum()"
      ]
    },
    {
      "attachments": {},
      "cell_type": "markdown",
      "metadata": {
        "id": "3emMU2mxv5G0"
      },
      "source": [
        "Dapat diketahui, dari Dataset yang diberikan terdiri dari 11 kolom dengan jumlah baris tidak diketahui (tidak disebutkan). Setiap kolom memiliki tipe data yang berbeda-beda, dengan jumlah `missing value (nilai kosong)` pada setiap kolom bernilai 0."
      ]
    },
    {
      "attachments": {},
      "cell_type": "markdown",
      "metadata": {
        "id": "a4Y2qV2QzRtl"
      },
      "source": [
        "## Duplicated Data\n",
        "Pada tahapan ini dilakukan proses mengidentifikasi dan menghapus atau mengubah data yang sama atau duplikat yang terdapat dalam suatu dataset. Duplikat dapat terjadi karena kesalahan input data, duplikasi data dari sumber yang berbeda, atau pengulangan data dalam waktu yang berbeda. Kehadiran data duplikat dapat mempengaruhi analisis dan model yang dihasilkan karena data duplikat dapat mempengaruhi hasil statistik dan menghasilkan model yang bias."
      ]
    },
    {
      "cell_type": "code",
      "execution_count": 139,
      "metadata": {
        "colab": {
          "base_uri": "https://localhost:8080/"
        },
        "id": "xPYIlLV0y_w6",
        "outputId": "80981b17-f275-45ec-8a19-5923af4548ee"
      },
      "outputs": [
        {
          "data": {
            "text/plain": [
              "0"
            ]
          },
          "execution_count": 139,
          "metadata": {},
          "output_type": "execute_result"
        }
      ],
      "source": [
        "# cek jumlah duplicated rows\n",
        "# dari semua kolom\n",
        "df.duplicated().sum()"
      ]
    },
    {
      "attachments": {},
      "cell_type": "markdown",
      "metadata": {},
      "source": [
        "Dapat diketahui, dari Dataset yang diberikan terdiri dari 11 kolom dengan jumlah baris tidak diketahui (tidak disebutkan). Setiap kolom memiliki tipe data yang berbeda-beda, dengan jumlah `data duplikat` pada setiap kolom bernilai 0."
      ]
    },
    {
      "attachments": {},
      "cell_type": "markdown",
      "metadata": {
        "id": "HbJBD6yxzcJP"
      },
      "source": [
        "## Outliers Handling\n",
        "\n",
        "Pada tahapan ini dilakukan proses untuk menangani data yang dianggap sebagai outlier, yaitu data yang jauh berbeda dengan data lainnya atau data yang berada di luar rentang normal atau standar. Outliers handling dilakukan untuk meminimalkan pengaruh data yang tidak biasa atau ekstrem terhadap analisis statistik atau machine learning yang akan dilakukan. "
      ]
    },
    {
      "cell_type": "code",
      "execution_count": 9,
      "metadata": {},
      "outputs": [
        {
          "data": {
            "image/png": "[encoded data removed]",
            "text/plain": [
              "<Figure size 1500x700 with 3 Axes>"
            ]
          },
          "metadata": {},
          "output_type": "display_data"
        }
      ],
      "source": [
        "fig, axes = plt.subplots(nrows=1, ncols=len(nums), figsize=(15,7))\n",
        "\n",
        "for i in range(0, len(nums)):\n",
        "    sns.boxplot(y=df[nums[i]],x=df[\"Response\"], orient=\"v\", ax=axes[i])\n",
        "    axes[i].set_title(nums[i])\n",
        "    \n",
        "plt.tight_layout()\n",
        "plt.show()"
      ]
    },
    {
      "attachments": {},
      "cell_type": "markdown",
      "metadata": {},
      "source": [
        "Kita ketahui, bahwa dari pada fitur yang termasuk `nums` kolom `Annual_Premium` perlu dilakukan handle outliers.\n",
        "\n",
        "Sedangkan untuk fitur `Age` tidak perlu dilakukan handling outliers, karena untuk kasus pada dataset ini berapapun walau terdapat pencilan atau outlier pada fitur `Age`, setelah dilakukan pengecekan, pertimbangan dan diskuskusi lebih lanjut disimpulkan nilai pada outlier tersebut memang valid dan memang hanya menjadi minor diantara nilai lainnya. Maka tidak perlu dilakukan handling outlier."
      ]
    },
    {
      "cell_type": "code",
      "execution_count": 10,
      "metadata": {},
      "outputs": [
        {
          "name": "stdout",
          "output_type": "stream",
          "text": [
            "Jumlah baris sebelum memfilter outlier: 381109\n",
            "Jumlah data setelah handling outlier: 370779\n"
          ]
        }
      ],
      "source": [
        "print(f'Jumlah baris sebelum memfilter outlier: {len(df)}')\n",
        "\n",
        "Q1_ap = df['Annual_Premium'].quantile(0.25)\n",
        "Q3_ap = df['Annual_Premium'].quantile(0.75)\n",
        "IQR_ap = Q3_ap - Q1_ap\n",
        "lower_limit_ap = Q1_ap - 1.5*IQR_ap\n",
        "upper_limit_ap = Q3_ap + 1.5*IQR_ap\n",
        "df = df[(df['Annual_Premium'] > lower_limit_ap) & (df['Annual_Premium'] < upper_limit_ap)]\n",
        "\n",
        "# Q1_age = df['Age'].quantile(0.25)\n",
        "# Q3_age = df['Age'].quantile(0.75)\n",
        "# IQR_age = Q3_age - Q1_age\n",
        "# lower_limit_age = Q1_age - 1.5*IQR_age\n",
        "# upper_limit_age = Q3_age + 1.5*IQR_age\n",
        "# df = df[(df['Age'] > lower_limit_age) & (df['Age'] < upper_limit_age)]\n",
        "\n",
        "print(f'Jumlah data setelah handling outlier: {len(df)}')"
      ]
    },
    {
      "attachments": {},
      "cell_type": "markdown",
      "metadata": {},
      "source": [
        "Kode di atas akan menghapus data pada kolom `Annual_Premium` dan `Age` yang berada di luar rentang lower_limit dan upper_limit. Rentang ini ditentukan berdasarkan `IQR (Interquartile Range)` dari kolom tersebut. Data yang dihapus adalah data yang dianggap sebagai outliers."
      ]
    },
    {
      "cell_type": "code",
      "execution_count": 11,
      "metadata": {},
      "outputs": [
        {
          "data": {
            "image/png": "[encoded data removed]",
            "text/plain": [
              "<Figure size 1500x700 with 3 Axes>"
            ]
          },
          "metadata": {},
          "output_type": "display_data"
        }
      ],
      "source": [
        "fig, axes = plt.subplots(nrows=1, ncols=len(nums), figsize=(15,7))\n",
        "\n",
        "for i in range(0, len(nums)):\n",
        "    sns.boxplot(y=df[nums[i]],x=df[\"Response\"], orient=\"v\", ax=axes[i])\n",
        "    axes[i].set_title(nums[i])\n",
        "    \n",
        "plt.tight_layout()\n",
        "plt.show()"
      ]
    },
    {
      "attachments": {},
      "cell_type": "markdown",
      "metadata": {},
      "source": [
        "Untuk memastikan kembali, bahwa hasil dari setelah dilakukan handling outlier jumlah kolom yang tersisa sesuai maka dilakukan kembali pengecekan menggunakan baris kode `df.info()`."
      ]
    },
    {
      "cell_type": "code",
      "execution_count": 12,
      "metadata": {},
      "outputs": [
        {
          "name": "stdout",
          "output_type": "stream",
          "text": [
            "<class 'pandas.core.frame.DataFrame'>\n",
            "Int64Index: 370779 entries, 0 to 381108\n",
            "Data columns (total 12 columns):\n",
            " #   Column                Non-Null Count   Dtype  \n",
            "---  ------                --------------   -----  \n",
            " 0   id                    370779 non-null  int64  \n",
            " 1   Gender                370779 non-null  object \n",
            " 2   Age                   370779 non-null  int64  \n",
            " 3   Driving_License       370779 non-null  object \n",
            " 4   Region_Code           370779 non-null  object \n",
            " 5   Previously_Insured    370779 non-null  object \n",
            " 6   Vehicle_Age           370779 non-null  object \n",
            " 7   Vehicle_Damage        370779 non-null  object \n",
            " 8   Annual_Premium        370779 non-null  float64\n",
            " 9   Policy_Sales_Channel  370779 non-null  object \n",
            " 10  Vintage               370779 non-null  int64  \n",
            " 11  Response              370779 non-null  object \n",
            "dtypes: float64(1), int64(3), object(8)\n",
            "memory usage: 36.8+ MB\n"
          ]
        }
      ],
      "source": [
        "# informasi general tentang dataframe terbaru hasil filter handling outliers\n",
        "df.info()"
      ]
    },
    {
      "attachments": {},
      "cell_type": "markdown",
      "metadata": {
        "id": "5_XR7mLluzgu"
      },
      "source": [
        "## Feature Transformation"
      ]
    },
    {
      "cell_type": "code",
      "execution_count": 13,
      "metadata": {},
      "outputs": [
        {
          "data": {
            "text/html": [
              "<div>\n",
              "<style scoped>\n",
              "    .dataframe tbody tr th:only-of-type {\n",
              "        vertical-align: middle;\n",
              "    }\n",
              "\n",
              "    .dataframe tbody tr th {\n",
              "        vertical-align: top;\n",
              "    }\n",
              "\n",
              "    .dataframe thead th {\n",
              "        text-align: right;\n",
              "    }\n",
              "</style>\n",
              "<table border=\"1\" class=\"dataframe\">\n",
              "  <thead>\n",
              "    <tr style=\"text-align: right;\">\n",
              "      <th></th>\n",
              "      <th>id</th>\n",
              "      <th>Age</th>\n",
              "      <th>Annual_Premium</th>\n",
              "      <th>Vintage</th>\n",
              "    </tr>\n",
              "  </thead>\n",
              "  <tbody>\n",
              "    <tr>\n",
              "      <th>count</th>\n",
              "      <td>370779.00</td>\n",
              "      <td>370779.00</td>\n",
              "      <td>370779.00</td>\n",
              "      <td>370779.00</td>\n",
              "    </tr>\n",
              "    <tr>\n",
              "      <th>mean</th>\n",
              "      <td>190535.40</td>\n",
              "      <td>38.67</td>\n",
              "      <td>29264.73</td>\n",
              "      <td>154.35</td>\n",
              "    </tr>\n",
              "    <tr>\n",
              "      <th>std</th>\n",
              "      <td>110037.57</td>\n",
              "      <td>15.44</td>\n",
              "      <td>14742.98</td>\n",
              "      <td>83.67</td>\n",
              "    </tr>\n",
              "    <tr>\n",
              "      <th>min</th>\n",
              "      <td>1.00</td>\n",
              "      <td>20.00</td>\n",
              "      <td>2630.00</td>\n",
              "      <td>10.00</td>\n",
              "    </tr>\n",
              "    <tr>\n",
              "      <th>25%</th>\n",
              "      <td>95217.50</td>\n",
              "      <td>25.00</td>\n",
              "      <td>24102.00</td>\n",
              "      <td>82.00</td>\n",
              "    </tr>\n",
              "    <tr>\n",
              "      <th>50%</th>\n",
              "      <td>190530.00</td>\n",
              "      <td>36.00</td>\n",
              "      <td>31319.00</td>\n",
              "      <td>154.00</td>\n",
              "    </tr>\n",
              "    <tr>\n",
              "      <th>75%</th>\n",
              "      <td>285824.50</td>\n",
              "      <td>49.00</td>\n",
              "      <td>38596.00</td>\n",
              "      <td>227.00</td>\n",
              "    </tr>\n",
              "    <tr>\n",
              "      <th>max</th>\n",
              "      <td>381109.00</td>\n",
              "      <td>84.00</td>\n",
              "      <td>61892.00</td>\n",
              "      <td>299.00</td>\n",
              "    </tr>\n",
              "  </tbody>\n",
              "</table>\n",
              "</div>"
            ],
            "text/plain": [
              "              id        Age  Annual_Premium    Vintage\n",
              "count  370779.00  370779.00       370779.00  370779.00\n",
              "mean   190535.40      38.67        29264.73     154.35\n",
              "std    110037.57      15.44        14742.98      83.67\n",
              "min         1.00      20.00         2630.00      10.00\n",
              "25%     95217.50      25.00        24102.00      82.00\n",
              "50%    190530.00      36.00        31319.00     154.00\n",
              "75%    285824.50      49.00        38596.00     227.00\n",
              "max    381109.00      84.00        61892.00     299.00"
            ]
          },
          "execution_count": 13,
          "metadata": {},
          "output_type": "execute_result"
        }
      ],
      "source": [
        "df.describe().round(2)"
      ]
    },
    {
      "attachments": {},
      "cell_type": "markdown",
      "metadata": {
        "id": "I4ZL4ceOklze"
      },
      "source": [
        "## Normalization/Standardization"
      ]
    },
    {
      "attachments": {},
      "cell_type": "markdown",
      "metadata": {},
      "source": [
        "Berdasarkan hasil describe di atas, fitur `Age`, `Annual_Premium` dan `Vintage` memiliki rentang nilai yang jauh berbeda range-nya. \n",
        "\n",
        "Kolom `Age` memiliki rentang nilai antara `15 hingga 84`, lalu kolom `Annual_Premium` memiliki rentang nilai yang besar juga, dan fitur `Vintage` juga memiliki rentan nilai yang jauh berbeda. \n",
        "\n",
        "Oleh karena itu, sebaiknya dilakukan normalisasi/standarisasi pada kedua kolom ini agar memiliki rentang nilai yang tidak terlalu jauh. "
      ]
    },
    {
      "cell_type": "code",
      "execution_count": 14,
      "metadata": {},
      "outputs": [
        {
          "data": {
            "image/png": "[encoded data removed]",
            "text/plain": [
              "<Figure size 1500x1000 with 3 Axes>"
            ]
          },
          "metadata": {},
          "output_type": "display_data"
        }
      ],
      "source": [
        "fig, axes = plt.subplots(nrows=1, ncols=len(nums), figsize=(15,10))\n",
        "\n",
        "for i in range(0, len(nums)):\n",
        "    plt.subplot(3,3,i+1)\n",
        "    sns.kdeplot(x=df[nums[i]], hue=df['Response'])\n",
        "\n",
        "plt.xlabel(nums[i])\n",
        "plt.tight_layout()"
      ]
    },
    {
      "attachments": {},
      "cell_type": "markdown",
      "metadata": {},
      "source": [
        "Berdasarkan hasil plot diatas, dapat diketahui bahwa ternyata :\n",
        "\n",
        "- Fitur `Age` karena distribusinya skeww ke kanan, atau tidak normal maka perlu dilakukan `Normalisasi`\n",
        "- Fitur `Vintage` karena distribusinya normal, maka perlu dilakukan `Standarisasi`\n",
        "- Fitur `Annual Premium` karena distribusinya skeww, maka perlu dilakukan `Normalisasi`"
      ]
    },
    {
      "cell_type": "code",
      "execution_count": 16,
      "metadata": {
        "id": "7D5OJkIez8aY"
      },
      "outputs": [],
      "source": [
        "from sklearn.preprocessing import StandardScaler\n",
        "from sklearn.preprocessing import MinMaxScaler\n",
        "\n",
        "scaler_standarisasi = StandardScaler()\n",
        "df[['Vintage']] = scaler_standarisasi.fit_transform(df[['Vintage']])\n",
        "\n",
        "scaler_normalisasi = MinMaxScaler()\n",
        "df[['Age', 'Annual_Premium']] = scaler_normalisasi.fit_transform(df[['Age', 'Annual_Premium']])"
      ]
    },
    {
      "cell_type": "code",
      "execution_count": 17,
      "metadata": {},
      "outputs": [
        {
          "data": {
            "image/png": "[encoded data removed]",
            "text/plain": [
              "<Figure size 1500x1000 with 3 Axes>"
            ]
          },
          "metadata": {},
          "output_type": "display_data"
        }
      ],
      "source": [
        "fig, axes = plt.subplots(nrows=1, ncols=len(nums), figsize=(15,10))\n",
        "\n",
        "for i in range(0, len(nums)):\n",
        "    plt.subplot(3,3,i+1)\n",
        "    sns.kdeplot(x=df[nums[i]], hue=df['Response'])\n",
        "\n",
        "plt.xlabel(nums[i])\n",
        "plt.tight_layout()"
      ]
    },
    {
      "cell_type": "code",
      "execution_count": 18,
      "metadata": {
        "colab": {
          "base_uri": "https://localhost:8080/",
          "height": 364
        },
        "id": "1T84eRgM0BTD",
        "outputId": "6c37c790-cab2-4711-ade3-61de05ebaab2"
      },
      "outputs": [
        {
          "data": {
            "text/html": [
              "<div>\n",
              "<style scoped>\n",
              "    .dataframe tbody tr th:only-of-type {\n",
              "        vertical-align: middle;\n",
              "    }\n",
              "\n",
              "    .dataframe tbody tr th {\n",
              "        vertical-align: top;\n",
              "    }\n",
              "\n",
              "    .dataframe thead th {\n",
              "        text-align: right;\n",
              "    }\n",
              "</style>\n",
              "<table border=\"1\" class=\"dataframe\">\n",
              "  <thead>\n",
              "    <tr style=\"text-align: right;\">\n",
              "      <th></th>\n",
              "      <th>id</th>\n",
              "      <th>Age</th>\n",
              "      <th>Annual_Premium</th>\n",
              "      <th>Vintage</th>\n",
              "    </tr>\n",
              "  </thead>\n",
              "  <tbody>\n",
              "    <tr>\n",
              "      <th>count</th>\n",
              "      <td>370779.00</td>\n",
              "      <td>370779.00</td>\n",
              "      <td>370779.00</td>\n",
              "      <td>370779.00</td>\n",
              "    </tr>\n",
              "    <tr>\n",
              "      <th>mean</th>\n",
              "      <td>190535.40</td>\n",
              "      <td>0.29</td>\n",
              "      <td>0.45</td>\n",
              "      <td>0.00</td>\n",
              "    </tr>\n",
              "    <tr>\n",
              "      <th>std</th>\n",
              "      <td>110037.57</td>\n",
              "      <td>0.24</td>\n",
              "      <td>0.25</td>\n",
              "      <td>1.00</td>\n",
              "    </tr>\n",
              "    <tr>\n",
              "      <th>min</th>\n",
              "      <td>1.00</td>\n",
              "      <td>0.00</td>\n",
              "      <td>0.00</td>\n",
              "      <td>-1.73</td>\n",
              "    </tr>\n",
              "    <tr>\n",
              "      <th>25%</th>\n",
              "      <td>95217.50</td>\n",
              "      <td>0.08</td>\n",
              "      <td>0.36</td>\n",
              "      <td>-0.86</td>\n",
              "    </tr>\n",
              "    <tr>\n",
              "      <th>50%</th>\n",
              "      <td>190530.00</td>\n",
              "      <td>0.25</td>\n",
              "      <td>0.48</td>\n",
              "      <td>-0.00</td>\n",
              "    </tr>\n",
              "    <tr>\n",
              "      <th>75%</th>\n",
              "      <td>285824.50</td>\n",
              "      <td>0.45</td>\n",
              "      <td>0.61</td>\n",
              "      <td>0.87</td>\n",
              "    </tr>\n",
              "    <tr>\n",
              "      <th>max</th>\n",
              "      <td>381109.00</td>\n",
              "      <td>1.00</td>\n",
              "      <td>1.00</td>\n",
              "      <td>1.73</td>\n",
              "    </tr>\n",
              "  </tbody>\n",
              "</table>\n",
              "</div>"
            ],
            "text/plain": [
              "              id        Age  Annual_Premium    Vintage\n",
              "count  370779.00  370779.00       370779.00  370779.00\n",
              "mean   190535.40       0.29            0.45       0.00\n",
              "std    110037.57       0.24            0.25       1.00\n",
              "min         1.00       0.00            0.00      -1.73\n",
              "25%     95217.50       0.08            0.36      -0.86\n",
              "50%    190530.00       0.25            0.48      -0.00\n",
              "75%    285824.50       0.45            0.61       0.87\n",
              "max    381109.00       1.00            1.00       1.73"
            ]
          },
          "execution_count": 18,
          "metadata": {},
          "output_type": "execute_result"
        }
      ],
      "source": [
        "# cek keberhasilan feature transformation\n",
        "df.describe().round(2)"
      ]
    },
    {
      "attachments": {},
      "cell_type": "markdown",
      "metadata": {},
      "source": [
        "Dari hasil transformasi yang dilakukan, terlihat bahwa:\n",
        "\n",
        "1. Fitur `Age` memiliki rata-rata 0.29 dan standar deviasi 0.24 setelah dilakukan normaisasi\n",
        "2. Fitur `Annual_Premium` memiliki rata-rata 0.45 dan standar deviasi 0.25 setelah dilakukan normalisasi\n",
        "3. Fitur `Vintage` memiliki rata-rata 0.00 dan standar deviasi 1.00 setelah dilakukan standarisasi"
      ]
    },
    {
      "attachments": {},
      "cell_type": "markdown",
      "metadata": {
        "id": "vBB_vjMX06IC"
      },
      "source": [
        "## Feature Encoding"
      ]
    },
    {
      "cell_type": "code",
      "execution_count": 19,
      "metadata": {
        "colab": {
          "base_uri": "https://localhost:8080/"
        },
        "id": "IGIBn38P0HJm",
        "outputId": "3921f588-272a-4b1a-b9f6-a169e66e6039"
      },
      "outputs": [
        {
          "name": "stdout",
          "output_type": "stream",
          "text": [
            "value counts of column Vehicle_Damage\n",
            "Yes    186555\n",
            "No     184224\n",
            "Name: Vehicle_Damage, dtype: int64\n",
            "------------------------------ \n",
            "\n",
            "value counts of column Vehicle_Age\n",
            "1-2 Year     194202\n",
            "< 1 Year     161547\n",
            "> 2 Years     15030\n",
            "Name: Vehicle_Age, dtype: int64\n",
            "------------------------------ \n",
            "\n"
          ]
        }
      ],
      "source": [
        "cats_updated = ['Vehicle_Damage', 'Vehicle_Age'] \n",
        "\n",
        "for col in cats_updated:\n",
        "  print(f'value counts of column {col}')\n",
        "  print(df[col].value_counts())\n",
        "  print('---'*10, '\\n')"
      ]
    },
    {
      "attachments": {},
      "cell_type": "markdown",
      "metadata": {
        "id": "MplaGm-51szD"
      },
      "source": [
        "Strategi encoding\n",
        "* `Vehicle_Damage` & `Vehicle_Age` \\: Label Encoding, atau Mapping.\n",
        "* `Gender` : One Hot Encoding"
      ]
    },
    {
      "cell_type": "code",
      "execution_count": 20,
      "metadata": {
        "id": "yK99BcTw0909"
      },
      "outputs": [],
      "source": [
        "mapping_Vehicle_Damage = {\n",
        "    'Yes' : 1,\n",
        "    'No' : 0\n",
        "}\n",
        "\n",
        "mapping_Vehicle_Age = {\n",
        "    '< 1 Year' : 0,\n",
        "    '1-2 Year' : 1,\n",
        "    '> 2 Years' : 2,\n",
        "}\n",
        "\n",
        "df['Vehicle_Damage'] = df['Vehicle_Damage'].map(mapping_Vehicle_Damage)\n",
        "df['Vehicle_Age'] = df['Vehicle_Age'].map(mapping_Vehicle_Age)\n",
        "\n",
        "df = pd.get_dummies(df, columns=['Gender'])"
      ]
    },
    {
      "cell_type": "code",
      "execution_count": 21,
      "metadata": {
        "colab": {
          "base_uri": "https://localhost:8080/",
          "height": 287
        },
        "id": "gJq4lcj83lJZ",
        "outputId": "c486a835-98cb-4c8f-d002-c109eca3347b"
      },
      "outputs": [
        {
          "data": {
            "text/html": [
              "<div>\n",
              "<style scoped>\n",
              "    .dataframe tbody tr th:only-of-type {\n",
              "        vertical-align: middle;\n",
              "    }\n",
              "\n",
              "    .dataframe tbody tr th {\n",
              "        vertical-align: top;\n",
              "    }\n",
              "\n",
              "    .dataframe thead th {\n",
              "        text-align: right;\n",
              "    }\n",
              "</style>\n",
              "<table border=\"1\" class=\"dataframe\">\n",
              "  <thead>\n",
              "    <tr style=\"text-align: right;\">\n",
              "      <th></th>\n",
              "      <th>id</th>\n",
              "      <th>Age</th>\n",
              "      <th>Driving_License</th>\n",
              "      <th>Region_Code</th>\n",
              "      <th>Previously_Insured</th>\n",
              "      <th>Vehicle_Age</th>\n",
              "      <th>Vehicle_Damage</th>\n",
              "      <th>Annual_Premium</th>\n",
              "      <th>Policy_Sales_Channel</th>\n",
              "      <th>Vintage</th>\n",
              "      <th>Response</th>\n",
              "      <th>Gender_Female</th>\n",
              "      <th>Gender_Male</th>\n",
              "    </tr>\n",
              "  </thead>\n",
              "  <tbody>\n",
              "    <tr>\n",
              "      <th>0</th>\n",
              "      <td>1</td>\n",
              "      <td>0.375000</td>\n",
              "      <td>1</td>\n",
              "      <td>28.0</td>\n",
              "      <td>0</td>\n",
              "      <td>2</td>\n",
              "      <td>1</td>\n",
              "      <td>0.638250</td>\n",
              "      <td>26.0</td>\n",
              "      <td>0.748828</td>\n",
              "      <td>1</td>\n",
              "      <td>0</td>\n",
              "      <td>1</td>\n",
              "    </tr>\n",
              "    <tr>\n",
              "      <th>1</th>\n",
              "      <td>2</td>\n",
              "      <td>0.875000</td>\n",
              "      <td>1</td>\n",
              "      <td>3.0</td>\n",
              "      <td>0</td>\n",
              "      <td>1</td>\n",
              "      <td>0</td>\n",
              "      <td>0.521515</td>\n",
              "      <td>26.0</td>\n",
              "      <td>0.342470</td>\n",
              "      <td>0</td>\n",
              "      <td>0</td>\n",
              "      <td>1</td>\n",
              "    </tr>\n",
              "    <tr>\n",
              "      <th>2</th>\n",
              "      <td>3</td>\n",
              "      <td>0.421875</td>\n",
              "      <td>1</td>\n",
              "      <td>28.0</td>\n",
              "      <td>0</td>\n",
              "      <td>2</td>\n",
              "      <td>1</td>\n",
              "      <td>0.601802</td>\n",
              "      <td>26.0</td>\n",
              "      <td>-1.521996</td>\n",
              "      <td>1</td>\n",
              "      <td>0</td>\n",
              "      <td>1</td>\n",
              "    </tr>\n",
              "    <tr>\n",
              "      <th>3</th>\n",
              "      <td>4</td>\n",
              "      <td>0.015625</td>\n",
              "      <td>1</td>\n",
              "      <td>11.0</td>\n",
              "      <td>1</td>\n",
              "      <td>0</td>\n",
              "      <td>0</td>\n",
              "      <td>0.438544</td>\n",
              "      <td>152.0</td>\n",
              "      <td>0.581504</td>\n",
              "      <td>0</td>\n",
              "      <td>0</td>\n",
              "      <td>1</td>\n",
              "    </tr>\n",
              "    <tr>\n",
              "      <th>4</th>\n",
              "      <td>5</td>\n",
              "      <td>0.140625</td>\n",
              "      <td>1</td>\n",
              "      <td>41.0</td>\n",
              "      <td>1</td>\n",
              "      <td>0</td>\n",
              "      <td>0</td>\n",
              "      <td>0.419594</td>\n",
              "      <td>152.0</td>\n",
              "      <td>-1.378575</td>\n",
              "      <td>0</td>\n",
              "      <td>1</td>\n",
              "      <td>0</td>\n",
              "    </tr>\n",
              "  </tbody>\n",
              "</table>\n",
              "</div>"
            ],
            "text/plain": [
              "   id       Age Driving_License Region_Code Previously_Insured  Vehicle_Age  \\\n",
              "0   1  0.375000               1        28.0                  0            2   \n",
              "1   2  0.875000               1         3.0                  0            1   \n",
              "2   3  0.421875               1        28.0                  0            2   \n",
              "3   4  0.015625               1        11.0                  1            0   \n",
              "4   5  0.140625               1        41.0                  1            0   \n",
              "\n",
              "   Vehicle_Damage  Annual_Premium Policy_Sales_Channel   Vintage Response  \\\n",
              "0               1        0.638250                 26.0  0.748828        1   \n",
              "1               0        0.521515                 26.0  0.342470        0   \n",
              "2               1        0.601802                 26.0 -1.521996        1   \n",
              "3               0        0.438544                152.0  0.581504        0   \n",
              "4               0        0.419594                152.0 -1.378575        0   \n",
              "\n",
              "   Gender_Female  Gender_Male  \n",
              "0              0            1  \n",
              "1              0            1  \n",
              "2              0            1  \n",
              "3              0            1  \n",
              "4              1            0  "
            ]
          },
          "execution_count": 21,
          "metadata": {},
          "output_type": "execute_result"
        }
      ],
      "source": [
        "df.head()"
      ]
    },
    {
      "cell_type": "code",
      "execution_count": 22,
      "metadata": {
        "colab": {
          "base_uri": "https://localhost:8080/"
        },
        "id": "oCUKohFi4Il1",
        "outputId": "47be4eff-6754-4058-9aa9-981d80fed0f0"
      },
      "outputs": [
        {
          "name": "stdout",
          "output_type": "stream",
          "text": [
            "<class 'pandas.core.frame.DataFrame'>\n",
            "Int64Index: 370779 entries, 0 to 381108\n",
            "Data columns (total 13 columns):\n",
            " #   Column                Non-Null Count   Dtype  \n",
            "---  ------                --------------   -----  \n",
            " 0   id                    370779 non-null  int64  \n",
            " 1   Age                   370779 non-null  float64\n",
            " 2   Driving_License       370779 non-null  object \n",
            " 3   Region_Code           370779 non-null  object \n",
            " 4   Previously_Insured    370779 non-null  object \n",
            " 5   Vehicle_Age           370779 non-null  int64  \n",
            " 6   Vehicle_Damage        370779 non-null  int64  \n",
            " 7   Annual_Premium        370779 non-null  float64\n",
            " 8   Policy_Sales_Channel  370779 non-null  object \n",
            " 9   Vintage               370779 non-null  float64\n",
            " 10  Response              370779 non-null  object \n",
            " 11  Gender_Female         370779 non-null  uint8  \n",
            " 12  Gender_Male           370779 non-null  uint8  \n",
            "dtypes: float64(3), int64(3), object(5), uint8(2)\n",
            "memory usage: 34.7+ MB\n"
          ]
        }
      ],
      "source": [
        "df.info()"
      ]
    },
    {
      "attachments": {},
      "cell_type": "markdown",
      "metadata": {},
      "source": [
        "Pada tahapan ini dilakukan kembali pengecekan type data dari masing-masing fitur apakah sudah sesuai. Dan didapat kesimpulan semua data sudah sesuai."
      ]
    },
    {
      "attachments": {},
      "cell_type": "markdown",
      "metadata": {
        "id": "2P9PeLhEklzo"
      },
      "source": [
        "## Imbalanced Dataset"
      ]
    },
    {
      "cell_type": "code",
      "execution_count": 23,
      "metadata": {
        "ExecuteTime": {
          "end_time": "2020-08-30T05:01:55.932484Z",
          "start_time": "2020-08-30T05:01:55.921497Z"
        },
        "colab": {
          "base_uri": "https://localhost:8080/"
        },
        "id": "bWfbNlMeklzo",
        "outputId": "9658b994-acb4-4ee1-8963-fd8a3aeafe66"
      },
      "outputs": [
        {
          "name": "stdout",
          "output_type": "stream",
          "text": [
            "0    325624\n",
            "1     45155\n",
            "Name: Response, dtype: int64\n"
          ]
        }
      ],
      "source": [
        "response_counts = df['Response'].value_counts()\n",
        "print(response_counts)"
      ]
    },
    {
      "cell_type": "code",
      "execution_count": 24,
      "metadata": {
        "ExecuteTime": {
          "end_time": "2020-08-30T05:02:10.853740Z",
          "start_time": "2020-08-30T05:02:10.812762Z"
        },
        "colab": {
          "base_uri": "https://localhost:8080/"
        },
        "id": "jUBkbWeTklzr",
        "outputId": "234640ee-5d87-4a90-ecd5-846f34f290c1"
      },
      "outputs": [
        {
          "name": "stdout",
          "output_type": "stream",
          "text": [
            "(370779, 12)\n",
            "(370779,)\n"
          ]
        }
      ],
      "source": [
        "# pemisahan features vs target\n",
        "X = df.drop('Response', axis=1)\n",
        "y = df['Response']\n",
        "print(X.shape)\n",
        "print(y.shape)"
      ]
    },
    {
      "cell_type": "code",
      "execution_count": 26,
      "metadata": {
        "ExecuteTime": {
          "end_time": "2020-08-30T05:04:12.387887Z",
          "start_time": "2020-08-30T05:04:12.364911Z"
        },
        "colab": {
          "base_uri": "https://localhost:8080/"
        },
        "id": "27jzXFSLklzt",
        "outputId": "58cc19db-e8e5-4760-83d1-814239b07692"
      },
      "outputs": [
        {
          "name": "stdout",
          "output_type": "stream",
          "text": [
            "0    45155\n",
            "1    45155\n",
            "dtype: int64\n"
          ]
        }
      ],
      "source": [
        "from sklearn.preprocessing import LabelEncoder\n",
        "from imblearn.over_sampling import SMOTE\n",
        "import pandas as pd\n",
        "from imblearn.under_sampling import RandomUnderSampler\n",
        "\n",
        "le = LabelEncoder()\n",
        "y = le.fit_transform(y)\n",
        "\n",
        "rus = RandomUnderSampler()\n",
        "\n",
        "# apply RandomUnderSampler to the dataset\n",
        "X_rus, y_rus = rus.fit_resample(X, y)\n",
        "\n",
        "# convert y_rus to pandas Series\n",
        "y_rus = pd.Series(y_rus)\n",
        "\n",
        "# check the class distribution\n",
        "print(y_rus.value_counts())"
      ]
    },
    {
      "attachments": {},
      "cell_type": "markdown",
      "metadata": {},
      "source": [
        "Setelah dilakukan analisis lebih lanjut, dan berdasarkan hasil diskusi maka ditentukan untuk metode yang digunakan supaya data lebih balance menggunakan metode `Undersampling`. Output yang dihasilkan menunjukkan bahwa setelah dilakukan undersampling, jumlah data pada kedua kelas menjadi sama dan seimbang, yaitu masing-masing `45155`."
      ]
    },
    {
      "cell_type": "code",
      "execution_count": 27,
      "metadata": {},
      "outputs": [
        {
          "name": "stdout",
          "output_type": "stream",
          "text": [
            "Original Dataset\n",
            "              precision    recall  f1-score   support\n",
            "\n",
            "           0       0.88      1.00      0.93     65099\n",
            "           1       0.00      0.00      0.00      9057\n",
            "\n",
            "    accuracy                           0.88     74156\n",
            "   macro avg       0.44      0.50      0.47     74156\n",
            "weighted avg       0.77      0.88      0.82     74156\n",
            "\n",
            "Random Undersampling\n",
            "              precision    recall  f1-score   support\n",
            "\n",
            "           0       0.90      0.69      0.78     65099\n",
            "           1       0.17      0.47      0.25      9057\n",
            "\n",
            "    accuracy                           0.66     74156\n",
            "   macro avg       0.54      0.58      0.52     74156\n",
            "weighted avg       0.81      0.66      0.72     74156\n",
            "\n"
          ]
        }
      ],
      "source": [
        "from sklearn.model_selection import train_test_split\n",
        "from sklearn.metrics import classification_report\n",
        "from imblearn.under_sampling import RandomUnderSampler\n",
        "from imblearn.over_sampling import RandomOverSampler, SMOTE\n",
        "from sklearn.linear_model import LogisticRegression\n",
        "import warnings\n",
        "warnings.filterwarnings('ignore')\n",
        "\n",
        "# split dataset into training and testing data\n",
        "X_train, X_test, y_train, y_test = train_test_split(X, y, test_size=0.2, random_state=42)\n",
        "\n",
        "# train logistic regression model on original dataset\n",
        "model = LogisticRegression(random_state=42).fit(X_train, y_train)\n",
        "y_pred = model.predict(X_test)\n",
        "print(\"Original Dataset\")\n",
        "print(classification_report(y_test, y_pred))\n",
        "\n",
        "# perform random undersampling\n",
        "rus = RandomUnderSampler(random_state=42)\n",
        "X_rus, y_rus = rus.fit_resample(X_train, y_train)\n",
        "model = LogisticRegression(random_state=42).fit(X_rus, y_rus)\n",
        "y_pred = model.predict(X_test)\n",
        "print(\"Random Undersampling\")\n",
        "print(classification_report(y_test, y_pred))"
      ]
    },
    {
      "cell_type": "code",
      "execution_count": 28,
      "metadata": {},
      "outputs": [
        {
          "name": "stdout",
          "output_type": "stream",
          "text": [
            "Random Oversampling\n",
            "              precision    recall  f1-score   support\n",
            "\n",
            "           0       0.99      0.59      0.74     65099\n",
            "           1       0.25      0.98      0.40      9057\n",
            "\n",
            "    accuracy                           0.64     74156\n",
            "   macro avg       0.62      0.79      0.57     74156\n",
            "weighted avg       0.90      0.64      0.70     74156\n",
            "\n",
            "SMOTE\n",
            "              precision    recall  f1-score   support\n",
            "\n",
            "           0       0.90      0.68      0.78     65099\n",
            "           1       0.17      0.47      0.25      9057\n",
            "\n",
            "    accuracy                           0.66     74156\n",
            "   macro avg       0.54      0.58      0.51     74156\n",
            "weighted avg       0.81      0.66      0.71     74156\n",
            "\n"
          ]
        }
      ],
      "source": [
        "# perform random oversampling\n",
        "ros = RandomOverSampler(random_state=42)\n",
        "X_ros, y_ros = ros.fit_resample(X_train, y_train)\n",
        "model = LogisticRegression(random_state=42).fit(X_ros, y_ros)\n",
        "y_pred = model.predict(X_test)\n",
        "print(\"Random Oversampling\")\n",
        "print(classification_report(y_test, y_pred))\n",
        "\n",
        "# perform SMOTE\n",
        "smote = SMOTE(random_state=42)\n",
        "X_smote, y_smote = smote.fit_resample(X_train, y_train)\n",
        "model = LogisticRegression(random_state=42).fit(X_smote, y_smote)\n",
        "y_pred = model.predict(X_test)\n",
        "print(\"SMOTE\")\n",
        "print(classification_report(y_test, y_pred))"
      ]
    },
    {
      "attachments": {},
      "cell_type": "markdown",
      "metadata": {},
      "source": [
        "# `2. Feature Engineering`"
      ]
    },
    {
      "attachments": {},
      "cell_type": "markdown",
      "metadata": {},
      "source": [
        "## Feature Selection \n",
        "\n",
        "Dari dataset yang diberikan, beberapa fitur yang mungkin perlu dibuang atau tidak terpakai yakni : \n",
        "\n",
        "1. `id`: Fitur ini seharusnya tidak memberikan pengaruh pada prediksi apapun, karena hanya merupakan sebuah identifikasi untuk setiap data dan tidak berkaitan dengan masalah prediksi.\n",
        "2. `Region_Code`: Fitur ini hanya menunjukkan kode wilayah dari pelanggan. Namun, tidak jelas apakah informasi ini dapat memberikan kontribusi signifikan terhadap prediksi.\n",
        "3. `Policy_Sales_Channel`: Fitur ini merupakan channel yang digunakan oleh pelanggan untuk membeli asuransi. Namun, terdapat 155 jenis channel yang berbeda, yang membuatnya sulit untuk diolah dan memerlukan preprocessing khusus. Selain itu, informasi ini mungkin tidak memiliki korelasi yang kuat dengan masalah prediksi."
      ]
    },
    {
      "attachments": {},
      "cell_type": "markdown",
      "metadata": {},
      "source": [
        "## Feature Extraction\n",
        "\n",
        "Untuk menambah fitur, perlu analisa lebih lanjut sesuai keadaan atau kondisi. Karena, penambahan fitur juga dapat mempengaruhi hasil model.\n",
        "Untuk sementara pada kasus ini, disimpulkan tidak perlu ditambahkan fitur.\n",
        "\n",
        "Perlu dipertimbangkan untuk ditambah, ekstraksi dari fitur :\n",
        "\n",
        "1. `Age` : Kategorikan jadi Muda, Tua dst.\n",
        "2. `Vintage` : Kategorikan jadi New User, Retain User."
      ]
    },
    {
      "attachments": {},
      "cell_type": "markdown",
      "metadata": {},
      "source": [
        "# `3. Upload Git`"
      ]
    },
    {
      "cell_type": "markdown",
      "metadata": {},
      "source": []
    }
  ],
  "metadata": {
    "colab": {
      "provenance": []
    },
    "kernelspec": {
      "display_name": "Python 3",
      "name": "python3"
    },
    "language_info": {
      "codemirror_mode": {
        "name": "ipython",
        "version": 3
      },
      "file_extension": ".py",
      "mimetype": "text/x-python",
      "name": "python",
      "nbconvert_exporter": "python",
      "pygments_lexer": "ipython3",
      "version": "3.10.6"
    }
  },
  "nbformat": 4,
  "nbformat_minor": 0
}
